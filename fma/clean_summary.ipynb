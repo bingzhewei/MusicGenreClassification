{
 "cells": [
  {
   "cell_type": "code",
   "execution_count": 1,
   "metadata": {
    "collapsed": true
   },
   "outputs": [],
   "source": [
    "%matplotlib inline"
   ]
  },
  {
   "cell_type": "code",
   "execution_count": 2,
   "metadata": {
    "collapsed": true
   },
   "outputs": [],
   "source": [
    "import numpy as np\n",
    "import librosa, librosa.display\n",
    "import pandas as pd\n",
    "import matplotlib.pyplot as plt\n",
    "import IPython.display as disp"
   ]
  },
  {
   "cell_type": "code",
   "execution_count": 3,
   "metadata": {
    "collapsed": true
   },
   "outputs": [],
   "source": [
    "import utils"
   ]
  },
  {
   "cell_type": "code",
   "execution_count": 4,
   "metadata": {},
   "outputs": [
    {
     "name": "stderr",
     "output_type": "stream",
     "text": [
      "/home/fx/598PS/fma/utils.py:56: FutureWarning: specifying 'categories' or 'ordered' in .astype() is deprecated; pass a CategoricalDtype instead\n",
      "  'category', categories=SUBSETS, ordered=True)\n"
     ]
    }
   ],
   "source": [
    "good_tracks = utils.load('./good_tracks.csv')"
   ]
  },
  {
   "cell_type": "code",
   "execution_count": 5,
   "metadata": {},
   "outputs": [
    {
     "data": {
      "text/plain": [
       "Rock                   14025\n",
       "Experimental           10370\n",
       "Electronic              9129\n",
       "Hip-Hop                 3520\n",
       "Folk                    2780\n",
       "Instrumental            2051\n",
       "Pop                     1994\n",
       "International           1372\n",
       "Classical               1220\n",
       "Jazz                     568\n",
       "Old-Time / Historic      547\n",
       "Spoken                   413\n",
       "Country                  194\n",
       "Soul-RnB                 174\n",
       "Blues                    110\n",
       "Easy Listening            24\n",
       "Name: (track, genre_top), dtype: int64"
      ]
     },
     "execution_count": 5,
     "metadata": {},
     "output_type": "execute_result"
    }
   ],
   "source": [
    "good_tracks[('track', 'genre_top')].value_counts()"
   ]
  },
  {
   "cell_type": "code",
   "execution_count": 6,
   "metadata": {
    "collapsed": true
   },
   "outputs": [],
   "source": [
    "usable_genres = ['Rock', 'Electronic', 'Hip-Hop', 'Folk', 'Instrumental', 'Pop', 'Classical']\n",
    "usable_tracks = good_tracks[good_tracks[('track', 'genre_top')]\n",
    "            .isin(usable_genres)]"
   ]
  },
  {
   "cell_type": "code",
   "execution_count": 7,
   "metadata": {},
   "outputs": [
    {
     "data": {
      "text/plain": [
       "Rock            14025\n",
       "Electronic       9129\n",
       "Hip-Hop          3520\n",
       "Folk             2780\n",
       "Instrumental     2051\n",
       "Pop              1994\n",
       "Classical        1220\n",
       "Name: (track, genre_top), dtype: int64"
      ]
     },
     "execution_count": 7,
     "metadata": {},
     "output_type": "execute_result"
    }
   ],
   "source": [
    "usable_tracks[('track', 'genre_top')].value_counts()"
   ]
  },
  {
   "cell_type": "code",
   "execution_count": 8,
   "metadata": {
    "collapsed": true
   },
   "outputs": [],
   "source": [
    "very_usable_tracks = usable_tracks[usable_tracks\n",
    "                                   .apply(lambda s: len(s[('track', 'genres')]) == 1, axis=1, reduce=True)]"
   ]
  },
  {
   "cell_type": "code",
   "execution_count": 9,
   "metadata": {},
   "outputs": [
    {
     "data": {
      "text/plain": [
       "Rock            6653\n",
       "Electronic      4092\n",
       "Hip-Hop         3010\n",
       "Folk            2113\n",
       "Pop             1700\n",
       "Instrumental    1317\n",
       "Classical        969\n",
       "Name: (track, genre_top), dtype: int64"
      ]
     },
     "execution_count": 9,
     "metadata": {},
     "output_type": "execute_result"
    }
   ],
   "source": [
    "very_usable_tracks[('track', 'genre_top')].value_counts()"
   ]
  },
  {
   "cell_type": "code",
   "execution_count": 10,
   "metadata": {},
   "outputs": [
    {
     "data": {
      "text/plain": [
       "Int64Index([146542, 139849,  19581,  19163,   3962,   1518,  63264,  62979,\n",
       "            142294,   1079,\n",
       "            ...\n",
       "             58407, 151782,  57580, 105099,  84291,  75124,  14090, 136275,\n",
       "             44287, 119254],\n",
       "           dtype='int64', name='track_id', length=900)"
      ]
     },
     "execution_count": 10,
     "metadata": {},
     "output_type": "execute_result"
    }
   ],
   "source": [
    "very_usable_tracks[very_usable_tracks[('track', 'genre_top')] == 'Rock'].sample(n=900).index"
   ]
  },
  {
   "cell_type": "code",
   "execution_count": 11,
   "metadata": {
    "collapsed": true
   },
   "outputs": [],
   "source": [
    "genre_index = {}\n",
    "for genre in usable_genres:\n",
    "    genre_index[genre] = list(very_usable_tracks[very_usable_tracks[('track', 'genre_top')] == genre].sample(n=900).index)"
   ]
  },
  {
   "cell_type": "code",
   "execution_count": 12,
   "metadata": {},
   "outputs": [
    {
     "name": "stdout",
     "output_type": "stream",
     "text": [
      "Classical 900\n",
      "Hip-Hop 900\n",
      "Pop 900\n",
      "Rock 900\n",
      "Electronic 900\n",
      "Instrumental 900\n",
      "Folk 900\n"
     ]
    }
   ],
   "source": [
    "for key in genre_index:\n",
    "    print(key, len(genre_index[key]))"
   ]
  },
  {
   "cell_type": "code",
   "execution_count": null,
   "metadata": {
    "collapsed": true
   },
   "outputs": [],
   "source": [
    "for genre in usable_genres:\n",
    "    print(genre)\n",
    "    for i in range(5):\n",
    "        idx = genre_index[genre][i]\n",
    "        f = utils.get_track_file(idx)\n",
    "        print(f)\n",
    "        disp.display(disp.Audio(f))\n",
    "        y, fs = librosa.load(f)\n",
    "        D = librosa.stft(y)\n",
    "        librosa.display.specshow(librosa.amplitude_to_db(D, ref=np.max), y_axis='log', x_axis='time')\n",
    "        plt.show()"
   ]
  },
  {
   "cell_type": "code",
   "execution_count": 13,
   "metadata": {},
   "outputs": [
    {
     "name": "stdout",
     "output_type": "stream",
     "text": [
      "[0 0 1 1 2 2 3 3 4 4 5 5 6 6]\n"
     ]
    }
   ],
   "source": [
    "train_size = 10\n",
    "test_size = 2\n",
    "train_y = []\n",
    "test_y = []\n",
    "for i in range(7):\n",
    "    train_y.extend([i for j in range(train_size)])\n",
    "    test_y.extend([i for k in range(test_size)])\n",
    "train_y = np.array(train_y)\n",
    "test_y = np.array(test_y)\n",
    "print(test_y)"
   ]
  },
  {
   "cell_type": "code",
   "execution_count": 14,
   "metadata": {},
   "outputs": [
    {
     "name": "stdout",
     "output_type": "stream",
     "text": [
      "data_0\n",
      "data_1\n",
      "data_2\n",
      "data_3\n",
      "data_4\n",
      "data_5\n",
      "data_6\n",
      "data_7\n",
      "data_8\n",
      "data_9\n",
      "data_10\n",
      "data_11\n",
      "data_0\n",
      "data_1\n",
      "data_2\n",
      "data_3\n",
      "data_4\n",
      "data_5\n",
      "data_6\n",
      "data_7\n",
      "data_8\n",
      "data_9\n",
      "data_10\n",
      "data_11\n",
      "data_0\n",
      "data_1\n",
      "data_2\n",
      "data_3\n",
      "data_4\n",
      "data_5\n",
      "data_6\n",
      "data_7\n",
      "data_8\n",
      "data_9\n",
      "data_10\n",
      "data_11\n",
      "data_0\n",
      "data_1\n",
      "data_2\n",
      "data_3\n",
      "data_4\n",
      "data_5\n",
      "data_6\n",
      "data_7\n",
      "data_8\n",
      "data_9\n",
      "data_10\n",
      "data_11\n",
      "data_0\n",
      "data_1\n",
      "data_2\n",
      "data_3\n",
      "data_4\n",
      "data_5\n",
      "data_6\n",
      "data_7\n",
      "data_8\n",
      "data_9\n",
      "data_10\n",
      "data_11\n",
      "data_0\n",
      "data_1\n",
      "data_2\n",
      "data_3\n",
      "data_4\n",
      "data_5\n",
      "data_6\n",
      "data_7\n",
      "data_8\n",
      "data_9\n",
      "data_10\n",
      "data_11\n",
      "data_0\n",
      "data_1\n",
      "data_2\n",
      "data_3\n",
      "data_4\n",
      "data_5\n",
      "data_6\n",
      "data_7\n",
      "data_8\n",
      "data_9\n",
      "data_10\n",
      "data_11\n",
      "(70, 661500)\n"
     ]
    }
   ],
   "source": [
    "train_X = []\n",
    "test_X = []\n",
    "for genre in usable_genres:\n",
    "    for i in range(train_size + test_size):\n",
    "        idx = genre_index[genre][i]\n",
    "        f = utils.get_track_file(idx)\n",
    "        y = utils.load_music_fixed_length(f)\n",
    "        print(\"data_{}\".format(i))\n",
    "        if i < train_size:\n",
    "            train_X.append(y)\n",
    "        else:\n",
    "            test_X.append(y)\n",
    "train_X = np.array(train_X)\n",
    "test_X = np.array(test_X)\n",
    "print(train_X.shape)"
   ]
  },
  {
   "cell_type": "code",
   "execution_count": 25,
   "metadata": {},
   "outputs": [
    {
     "ename": "TypeError",
     "evalue": "train() takes 3 positional arguments but 4 were given",
     "output_type": "error",
     "traceback": [
      "\u001b[0;31m---------------------------------------------------------------------------\u001b[0m",
      "\u001b[0;31mTypeError\u001b[0m                                 Traceback (most recent call last)",
      "\u001b[0;32m<ipython-input-25-b9b0b85e76e6>\u001b[0m in \u001b[0;36m<module>\u001b[0;34m()\u001b[0m\n\u001b[1;32m      5\u001b[0m \u001b[0mtest_X\u001b[0m \u001b[0;34m=\u001b[0m \u001b[0mnp\u001b[0m\u001b[0;34m.\u001b[0m\u001b[0marray\u001b[0m\u001b[0;34m(\u001b[0m\u001b[0;34m[\u001b[0m\u001b[0mfeature\u001b[0m\u001b[0;34m.\u001b[0m\u001b[0mmfcc\u001b[0m\u001b[0;34m(\u001b[0m\u001b[0mtest_X\u001b[0m\u001b[0;34m[\u001b[0m\u001b[0mi\u001b[0m\u001b[0;34m]\u001b[0m\u001b[0;34m)\u001b[0m \u001b[0;32mfor\u001b[0m \u001b[0mi\u001b[0m \u001b[0;32min\u001b[0m \u001b[0mrange\u001b[0m\u001b[0;34m(\u001b[0m\u001b[0mlen\u001b[0m\u001b[0;34m(\u001b[0m\u001b[0mtest_X\u001b[0m\u001b[0;34m)\u001b[0m\u001b[0;34m)\u001b[0m\u001b[0;34m]\u001b[0m\u001b[0;34m)\u001b[0m\u001b[0;34m\u001b[0m\u001b[0m\n\u001b[1;32m      6\u001b[0m \u001b[0mhis_cla\u001b[0m \u001b[0;34m=\u001b[0m \u001b[0mhisto_classifier\u001b[0m\u001b[0;34m(\u001b[0m\u001b[0;34m)\u001b[0m\u001b[0;34m\u001b[0m\u001b[0m\n\u001b[0;32m----> 7\u001b[0;31m \u001b[0mhis_cla\u001b[0m\u001b[0;34m.\u001b[0m\u001b[0mtrain\u001b[0m\u001b[0;34m(\u001b[0m\u001b[0mtrain_X\u001b[0m\u001b[0;34m,\u001b[0m \u001b[0mtrain_y\u001b[0m\u001b[0;34m,\u001b[0m \u001b[0;32mTrue\u001b[0m\u001b[0;34m)\u001b[0m\u001b[0;34m\u001b[0m\u001b[0m\n\u001b[0m\u001b[1;32m      8\u001b[0m \u001b[0mpreds\u001b[0m \u001b[0;34m=\u001b[0m \u001b[0mhis_cla\u001b[0m\u001b[0;34m.\u001b[0m\u001b[0mpredict\u001b[0m\u001b[0;34m(\u001b[0m\u001b[0mtest_X\u001b[0m\u001b[0;34m,\u001b[0m \u001b[0;32mTrue\u001b[0m\u001b[0;34m)\u001b[0m\u001b[0;34m\u001b[0m\u001b[0m\n\u001b[1;32m      9\u001b[0m \u001b[0mprint\u001b[0m\u001b[0;34m(\u001b[0m\u001b[0mpreds\u001b[0m\u001b[0;34m)\u001b[0m\u001b[0;34m\u001b[0m\u001b[0m\n",
      "\u001b[0;31mTypeError\u001b[0m: train() takes 3 positional arguments but 4 were given"
     ]
    }
   ],
   "source": [
    "from librosa import feature\n",
    "from histo_classifier import histo_classifier\n",
    "\n",
    "# train_X = np.array([feature.mfcc(train_X[i]) for i in range(len(train_X))])\n",
    "test_X = np.array([feature.mfcc(test_X[i]) for i in range(len(test_X))])\n",
    "his_cla = histo_classifier()\n",
    "his_cla.train(train_X, train_y, True)\n",
    "preds = his_cla.predict(test_X, True)\n",
    "print(preds)"
   ]
  },
  {
   "cell_type": "code",
   "execution_count": 20,
   "metadata": {},
   "outputs": [
    {
     "name": "stdout",
     "output_type": "stream",
     "text": [
      "[0 0 0 0 0 0 0 0 0 0 1 1 2 1 1 1 1 1 1 1 2 2 2 2 2 2 2 2 2 2 3 3 3 3 3 3 3\n",
      " 3 3 3 4 4 4 4 4 4 4 4 4 4 5 5 5 5 4 5 5 5 5 5 6 6 6 6 6 6 6 6 6 6]\n"
     ]
    }
   ],
   "source": [
    "preds = his_cla.predict(train_X)\n",
    "print(preds)"
   ]
  },
  {
   "cell_type": "code",
   "execution_count": 21,
   "metadata": {},
   "outputs": [
    {
     "name": "stdout",
     "output_type": "stream",
     "text": [
      "0.971428571429\n"
     ]
    }
   ],
   "source": [
    "print(np.sum(preds==train_y)/len(train_y))"
   ]
  },
  {
   "cell_type": "code",
   "execution_count": null,
   "metadata": {
    "collapsed": true
   },
   "outputs": [],
   "source": []
  }
 ],
 "metadata": {
  "kernelspec": {
   "display_name": "Python 3",
   "language": "python",
   "name": "python3"
  },
  "language_info": {
   "codemirror_mode": {
    "name": "ipython",
    "version": 3
   },
   "file_extension": ".py",
   "mimetype": "text/x-python",
   "name": "python",
   "nbconvert_exporter": "python",
   "pygments_lexer": "ipython3",
   "version": "3.5.2"
  }
 },
 "nbformat": 4,
 "nbformat_minor": 2
}
